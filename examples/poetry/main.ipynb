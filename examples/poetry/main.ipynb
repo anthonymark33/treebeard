{
 "cells": [
  {
   "cell_type": "markdown",
   "metadata": {},
   "source": [
    "# Example 4\n",
    "Built using `poetry`"
   ]
  },
  {
   "cell_type": "markdown",
   "metadata": {},
   "source": [
    "## Play with datetime library pendulum"
   ]
  },
  {
   "cell_type": "code",
   "execution_count": 1,
   "metadata": {},
   "outputs": [
    {
     "data": {
      "text/plain": [
       "DateTime(2020, 2, 1, 13, 23, 47, 508636, tzinfo=Timezone('Europe/Paris'))"
      ]
     },
     "execution_count": 1,
     "metadata": {},
     "output_type": "execute_result"
    }
   ],
   "source": [
    "import pendulum\n",
    "\n",
    "now = pendulum.now('Europe/Paris')\n",
    "\n",
    "# Changing timezone\n",
    "now.in_timezone('America/Toronto')\n",
    "\n",
    "# Default support for common datetime formats\n",
    "now.to_iso8601_string()\n",
    "\n",
    "# Shifting\n",
    "now.add(days=2)"
   ]
  },
  {
   "cell_type": "markdown",
   "metadata": {},
   "source": [
    "## Timezones"
   ]
  },
  {
   "cell_type": "code",
   "execution_count": 2,
   "metadata": {},
   "outputs": [
    {
     "data": {
      "text/plain": [
       "'2013-03-31T01:59:59+01:00'"
      ]
     },
     "execution_count": 2,
     "metadata": {},
     "output_type": "execute_result"
    }
   ],
   "source": [
    "in_utc = pendulum.datetime(2013, 3, 31, 0, 59, 59)\n",
    "tz = pendulum.timezone('Europe/Paris')\n",
    "in_paris = tz.convert(in_utc)\n",
    "'2013-03-31T01:59:59+01:00'\n",
    "\n",
    "# Shifting time\n",
    "in_paris = in_paris.add(seconds=1)\n",
    "'2013-03-31T03:00:00+02:00'\n",
    "in_paris.subtract(seconds=1)\n",
    "'2013-03-31T01:59:59+01:00'"
   ]
  },
  {
   "cell_type": "code",
   "execution_count": 3,
   "metadata": {},
   "outputs": [],
   "source": [
    "import pandas as pd"
   ]
  },
  {
   "cell_type": "code",
   "execution_count": 4,
   "metadata": {},
   "outputs": [
    {
     "data": {
      "text/html": [
       "<div>\n",
       "<style scoped>\n",
       "    .dataframe tbody tr th:only-of-type {\n",
       "        vertical-align: middle;\n",
       "    }\n",
       "\n",
       "    .dataframe tbody tr th {\n",
       "        vertical-align: top;\n",
       "    }\n",
       "\n",
       "    .dataframe thead th {\n",
       "        text-align: right;\n",
       "    }\n",
       "</style>\n",
       "<table border=\"1\" class=\"dataframe\">\n",
       "  <thead>\n",
       "    <tr style=\"text-align: right;\">\n",
       "      <th></th>\n",
       "      <th>timezones</th>\n",
       "    </tr>\n",
       "  </thead>\n",
       "  <tbody>\n",
       "    <tr>\n",
       "      <th>0</th>\n",
       "      <td>Africa/Abidjan</td>\n",
       "    </tr>\n",
       "    <tr>\n",
       "      <th>1</th>\n",
       "      <td>Africa/Accra</td>\n",
       "    </tr>\n",
       "    <tr>\n",
       "      <th>2</th>\n",
       "      <td>Africa/Addis_Ababa</td>\n",
       "    </tr>\n",
       "    <tr>\n",
       "      <th>3</th>\n",
       "      <td>Africa/Algiers</td>\n",
       "    </tr>\n",
       "    <tr>\n",
       "      <th>4</th>\n",
       "      <td>Africa/Asmara</td>\n",
       "    </tr>\n",
       "    <tr>\n",
       "      <th>...</th>\n",
       "      <td>...</td>\n",
       "    </tr>\n",
       "    <tr>\n",
       "      <th>587</th>\n",
       "      <td>UTC</td>\n",
       "    </tr>\n",
       "    <tr>\n",
       "      <th>588</th>\n",
       "      <td>Universal</td>\n",
       "    </tr>\n",
       "    <tr>\n",
       "      <th>589</th>\n",
       "      <td>W-SU</td>\n",
       "    </tr>\n",
       "    <tr>\n",
       "      <th>590</th>\n",
       "      <td>WET</td>\n",
       "    </tr>\n",
       "    <tr>\n",
       "      <th>591</th>\n",
       "      <td>Zulu</td>\n",
       "    </tr>\n",
       "  </tbody>\n",
       "</table>\n",
       "<p>592 rows × 1 columns</p>\n",
       "</div>"
      ],
      "text/plain": [
       "              timezones\n",
       "0        Africa/Abidjan\n",
       "1          Africa/Accra\n",
       "2    Africa/Addis_Ababa\n",
       "3        Africa/Algiers\n",
       "4         Africa/Asmara\n",
       "..                  ...\n",
       "587                 UTC\n",
       "588           Universal\n",
       "589                W-SU\n",
       "590                 WET\n",
       "591                Zulu\n",
       "\n",
       "[592 rows x 1 columns]"
      ]
     },
     "execution_count": 4,
     "metadata": {},
     "output_type": "execute_result"
    }
   ],
   "source": [
    "# List pendulum.timezones\n",
    "df = pd.DataFrame(pendulum.timezones, columns=['timezones'])\n",
    "df"
   ]
  },
  {
   "cell_type": "code",
   "execution_count": 5,
   "metadata": {},
   "outputs": [],
   "source": [
    "def get_time_in_zone(zone):\n",
    "    tz = pendulum.timezone(zone)\n",
    "    new_time = tz.convert(pendulum.now())\n",
    "    return new_time"
   ]
  },
  {
   "cell_type": "code",
   "execution_count": 6,
   "metadata": {},
   "outputs": [],
   "source": [
    "df['time'] = [get_time_in_zone(x) for x in df['timezones']]"
   ]
  },
  {
   "cell_type": "code",
   "execution_count": 7,
   "metadata": {},
   "outputs": [
    {
     "data": {
      "text/html": [
       "<div>\n",
       "<style scoped>\n",
       "    .dataframe tbody tr th:only-of-type {\n",
       "        vertical-align: middle;\n",
       "    }\n",
       "\n",
       "    .dataframe tbody tr th {\n",
       "        vertical-align: top;\n",
       "    }\n",
       "\n",
       "    .dataframe thead th {\n",
       "        text-align: right;\n",
       "    }\n",
       "</style>\n",
       "<table border=\"1\" class=\"dataframe\">\n",
       "  <thead>\n",
       "    <tr style=\"text-align: right;\">\n",
       "      <th></th>\n",
       "      <th>timezones</th>\n",
       "      <th>time</th>\n",
       "    </tr>\n",
       "  </thead>\n",
       "  <tbody>\n",
       "    <tr>\n",
       "      <th>0</th>\n",
       "      <td>Africa/Abidjan</td>\n",
       "      <td>2020-01-30T12:23:48.205637+00:00</td>\n",
       "    </tr>\n",
       "    <tr>\n",
       "      <th>1</th>\n",
       "      <td>Africa/Accra</td>\n",
       "      <td>2020-01-30T12:23:48.206848+00:00</td>\n",
       "    </tr>\n",
       "    <tr>\n",
       "      <th>2</th>\n",
       "      <td>Africa/Addis_Ababa</td>\n",
       "      <td>2020-01-30T15:23:48.210265+03:00</td>\n",
       "    </tr>\n",
       "    <tr>\n",
       "      <th>3</th>\n",
       "      <td>Africa/Algiers</td>\n",
       "      <td>2020-01-30T13:23:48.217012+01:00</td>\n",
       "    </tr>\n",
       "    <tr>\n",
       "      <th>4</th>\n",
       "      <td>Africa/Asmara</td>\n",
       "      <td>2020-01-30T15:23:48.218597+03:00</td>\n",
       "    </tr>\n",
       "  </tbody>\n",
       "</table>\n",
       "</div>"
      ],
      "text/plain": [
       "            timezones                              time\n",
       "0      Africa/Abidjan  2020-01-30T12:23:48.205637+00:00\n",
       "1        Africa/Accra  2020-01-30T12:23:48.206848+00:00\n",
       "2  Africa/Addis_Ababa  2020-01-30T15:23:48.210265+03:00\n",
       "3      Africa/Algiers  2020-01-30T13:23:48.217012+01:00\n",
       "4       Africa/Asmara  2020-01-30T15:23:48.218597+03:00"
      ]
     },
     "execution_count": 7,
     "metadata": {},
     "output_type": "execute_result"
    }
   ],
   "source": [
    "df.head()"
   ]
  },
  {
   "cell_type": "code",
   "execution_count": 8,
   "metadata": {},
   "outputs": [],
   "source": [
    "import matplotlib.pyplot as plt"
   ]
  },
  {
   "cell_type": "code",
   "execution_count": 10,
   "metadata": {},
   "outputs": [],
   "source": [
    "# dummy value\n",
    "df['val'] = 1"
   ]
  },
  {
   "cell_type": "code",
   "execution_count": 32,
   "metadata": {},
   "outputs": [],
   "source": [
    "df['only_time'] = [x.time() for x in df['time']]"
   ]
  },
  {
   "cell_type": "code",
   "execution_count": 91,
   "metadata": {},
   "outputs": [],
   "source": [
    "# pd.to_datetime(df['time'],format= '%Y-%m-%d %H:%M:%S', utc=False)"
   ]
  },
  {
   "cell_type": "code",
   "execution_count": 92,
   "metadata": {},
   "outputs": [],
   "source": [
    "df['str_time'] = [str(x) for x in df['only_time']]\n",
    "# df['int_time'] = [int(x) for x in df['only_time']]"
   ]
  },
  {
   "cell_type": "code",
   "execution_count": 62,
   "metadata": {},
   "outputs": [
    {
     "data": {
      "text/html": [
       "<div>\n",
       "<style scoped>\n",
       "    .dataframe tbody tr th:only-of-type {\n",
       "        vertical-align: middle;\n",
       "    }\n",
       "\n",
       "    .dataframe tbody tr th {\n",
       "        vertical-align: top;\n",
       "    }\n",
       "\n",
       "    .dataframe thead th {\n",
       "        text-align: right;\n",
       "    }\n",
       "</style>\n",
       "<table border=\"1\" class=\"dataframe\">\n",
       "  <thead>\n",
       "    <tr style=\"text-align: right;\">\n",
       "      <th></th>\n",
       "      <th>timezones</th>\n",
       "      <th>time</th>\n",
       "      <th>val</th>\n",
       "      <th>only_time</th>\n",
       "      <th>str_time</th>\n",
       "    </tr>\n",
       "  </thead>\n",
       "  <tbody>\n",
       "    <tr>\n",
       "      <th>0</th>\n",
       "      <td>Africa/Abidjan</td>\n",
       "      <td>2020-01-30T12:23:48.205637+00:00</td>\n",
       "      <td>1</td>\n",
       "      <td>12:23:48.205637</td>\n",
       "      <td>12:23:48.205637</td>\n",
       "    </tr>\n",
       "    <tr>\n",
       "      <th>1</th>\n",
       "      <td>Africa/Accra</td>\n",
       "      <td>2020-01-30T12:23:48.206848+00:00</td>\n",
       "      <td>1</td>\n",
       "      <td>12:23:48.206848</td>\n",
       "      <td>12:23:48.206848</td>\n",
       "    </tr>\n",
       "    <tr>\n",
       "      <th>2</th>\n",
       "      <td>Africa/Addis_Ababa</td>\n",
       "      <td>2020-01-30T15:23:48.210265+03:00</td>\n",
       "      <td>1</td>\n",
       "      <td>15:23:48.210265</td>\n",
       "      <td>15:23:48.210265</td>\n",
       "    </tr>\n",
       "    <tr>\n",
       "      <th>3</th>\n",
       "      <td>Africa/Algiers</td>\n",
       "      <td>2020-01-30T13:23:48.217012+01:00</td>\n",
       "      <td>1</td>\n",
       "      <td>13:23:48.217012</td>\n",
       "      <td>13:23:48.217012</td>\n",
       "    </tr>\n",
       "    <tr>\n",
       "      <th>4</th>\n",
       "      <td>Africa/Asmara</td>\n",
       "      <td>2020-01-30T15:23:48.218597+03:00</td>\n",
       "      <td>1</td>\n",
       "      <td>15:23:48.218597</td>\n",
       "      <td>15:23:48.218597</td>\n",
       "    </tr>\n",
       "  </tbody>\n",
       "</table>\n",
       "</div>"
      ],
      "text/plain": [
       "            timezones                              time  val        only_time  \\\n",
       "0      Africa/Abidjan  2020-01-30T12:23:48.205637+00:00    1  12:23:48.205637   \n",
       "1        Africa/Accra  2020-01-30T12:23:48.206848+00:00    1  12:23:48.206848   \n",
       "2  Africa/Addis_Ababa  2020-01-30T15:23:48.210265+03:00    1  15:23:48.210265   \n",
       "3      Africa/Algiers  2020-01-30T13:23:48.217012+01:00    1  13:23:48.217012   \n",
       "4       Africa/Asmara  2020-01-30T15:23:48.218597+03:00    1  15:23:48.218597   \n",
       "\n",
       "          str_time  \n",
       "0  12:23:48.205637  \n",
       "1  12:23:48.206848  \n",
       "2  15:23:48.210265  \n",
       "3  13:23:48.217012  \n",
       "4  15:23:48.218597  "
      ]
     },
     "execution_count": 62,
     "metadata": {},
     "output_type": "execute_result"
    }
   ],
   "source": [
    "df.head()"
   ]
  },
  {
   "cell_type": "code",
   "execution_count": 73,
   "metadata": {},
   "outputs": [],
   "source": [
    "sample = df.sample(n=3)"
   ]
  },
  {
   "cell_type": "code",
   "execution_count": 75,
   "metadata": {},
   "outputs": [],
   "source": [
    "import matplotlib.dates as md"
   ]
  },
  {
   "cell_type": "code",
   "execution_count": 96,
   "metadata": {},
   "outputs": [
    {
     "data": {
      "image/png": "[encoded data removed]",
      "text/plain": [
       "<Figure size 576x576 with 1 Axes>"
      ]
     },
     "metadata": {},
     "output_type": "display_data"
    }
   ],
   "source": [
    "fig, ax = plt.subplots(figsize=(8,8))\n",
    "ax.plot_date(sample['str_time'], sample['val'], marker=\"|\")\n",
    "\n",
    "# ax.xaxis_date()\n",
    "# xfmt = md.DateFormatter('%H:%M:%S')\n",
    "# ax.xaxis.set_major_formatter(xfmt)\n",
    "\n",
    "for x in sample['str_time']:\n",
    "    ax.axvline(x)"
   ]
  },
  {
   "cell_type": "code",
   "execution_count": null,
   "metadata": {},
   "outputs": [],
   "source": []
  }
 ],
 "metadata": {
  "kernelspec": {
   "display_name": "Python 3",
   "language": "python",
   "name": "python3"
  },
  "language_info": {
   "codemirror_mode": {
    "name": "ipython",
    "version": 3
   },
   "file_extension": ".py",
   "mimetype": "text/x-python",
   "name": "python",
   "nbconvert_exporter": "python",
   "pygments_lexer": "ipython3",
   "version": "3.7.1"
  },
  "toc": {
   "base_numbering": 1,
   "nav_menu": {},
   "number_sections": true,
   "sideBar": true,
   "skip_h1_title": false,
   "title_cell": "Table of Contents",
   "title_sidebar": "Contents",
   "toc_cell": false,
   "toc_position": {},
   "toc_section_display": true,
   "toc_window_display": false
  }
 },
 "nbformat": 4,
 "nbformat_minor": 4
}
