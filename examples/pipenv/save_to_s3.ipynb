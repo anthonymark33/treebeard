{
 "cells": [
  {
   "cell_type": "markdown",
   "metadata": {},
   "source": [
    "## Save to S3"
   ]
  },
  {
   "cell_type": "code",
   "execution_count": null,
   "metadata": {},
   "outputs": [],
   "source": [
    "import os"
   ]
  },
  {
   "cell_type": "code",
   "execution_count": null,
   "metadata": {},
   "outputs": [],
   "source": [
    "# !aws configure"
   ]
  },
  {
   "cell_type": "code",
   "execution_count": null,
   "metadata": {},
   "outputs": [],
   "source": [
    "# Create credentials for aws\n",
    "aws_access_key_id = \"YOUR_ACCESS_KEY\"\n",
    "aws_secret_access_key = \"YOUR_SECRET_KEY\"\n",
    "\n",
    "if not os.path.exists('.aws'):\n",
    "    os.mkdir('.aws')\n",
    "with open(\".aws/credentials\", 'w') as file: # Use file to refer to the file object\n",
    "    file.write(f'[default]\\naws_access_key_id = {aws_access_key_id}\\naws_secret_access_key = {aws_secret_access_key}')"
   ]
  },
  {
   "cell_type": "code",
   "execution_count": null,
   "metadata": {},
   "outputs": [],
   "source": [
    "import boto3"
   ]
  },
  {
   "cell_type": "code",
   "execution_count": null,
   "metadata": {},
   "outputs": [],
   "source": [
    "s3 = boto3.resource('s3')"
   ]
  },
  {
   "cell_type": "code",
   "execution_count": null,
   "metadata": {},
   "outputs": [],
   "source": [
    "# Print out bucket names\n",
    "for bucket in s3.buckets.all():\n",
    "    print(bucket.name)"
   ]
  },
  {
   "cell_type": "code",
   "execution_count": null,
   "metadata": {},
   "outputs": [],
   "source": [
    "# test\n",
    "# s3.Bucket('treebeard-scheduling').put_object(Key='top_test.csv', Body=top.to_csv())"
   ]
  },
  {
   "cell_type": "code",
   "execution_count": null,
   "metadata": {},
   "outputs": [],
   "source": [
    "def save_to_s3(top, chart, subreddit, look_for, sort, time_filter):\n",
    "    name = f'{subreddit}_{look_for}_{sort}_{time_filter}_{int(time.time())}'\n",
    "    s3.Bucket('treebeard-scheduling').put_object(Key=f'{name}.csv', Body=top.to_csv())\n",
    "    chart.savefig('temp_chart.png', bbox_inches='tight')\n",
    "    s3.Bucket('treebeard-scheduling').put_object(Key=f'{name}.png', Body='temp_chart.png')\n",
    "    os.remove('temp_chart.png')"
   ]
  },
  {
   "cell_type": "markdown",
   "metadata": {},
   "source": [
    "# Query Reddit and Save to S3"
   ]
  },
  {
   "cell_type": "code",
   "execution_count": null,
   "metadata": {},
   "outputs": [],
   "source": [
    "def query_save(subreddit=subreddit, look_for=look_for, sort=sort, limit = limit, time_filter=time_filter):\n",
    "    df, top, chart = get_subreddit(subreddit=subreddit, look_for=look_for, sort=sort, limit = limit, time_filter=time_filter)\n",
    "    save_to_s3(top, chart, subreddit, look_for, sort, time_filter)"
   ]
  },
  {
   "cell_type": "code",
   "execution_count": null,
   "metadata": {},
   "outputs": [],
   "source": []
  }
 ],
 "metadata": {
  "kernelspec": {
   "display_name": "Python 3",
   "language": "python",
   "name": "python3"
  },
  "language_info": {
   "codemirror_mode": {
    "name": "ipython",
    "version": 3
   },
   "file_extension": ".py",
   "mimetype": "text/x-python",
   "name": "python",
   "nbconvert_exporter": "python",
   "pygments_lexer": "ipython3",
   "version": "3.7.1"
  }
 },
 "nbformat": 4,
 "nbformat_minor": 2
}
