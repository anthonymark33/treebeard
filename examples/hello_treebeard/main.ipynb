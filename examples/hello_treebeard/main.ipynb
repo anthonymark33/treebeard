{
 "cells": [
  {
   "cell_type": "markdown",
   "metadata": {},
   "source": [
    "# Hello Treebeard!\n",
    "\n",
    "Thanks for trying out Treebeard's cloud deploy and scheduling service.  \n",
    "\n",
    "\n",
    "1. [Requirements](#Requirements)\n",
    "2. [Outputs](#Outputs)\n",
    "3. [Examples](#Examples)\n",
    "    - [Call an API](#Call-an-API)\n",
    "    - [Check a hosted file](#Check-a-hosted-file)"
   ]
  },
  {
   "cell_type": "markdown",
   "metadata": {},
   "source": [
    "## Requirements"
   ]
  },
  {
   "cell_type": "code",
   "execution_count": 1,
   "metadata": {},
   "outputs": [],
   "source": [
    "import treebeard\n",
    "# This notebook does not depend on the treebeard library, but it should be present in your requirements file.\n",
    "# The underlying build service sends this notebook to a cloud server which uses the papermill library to run\n",
    "# the notebook. Having treebeard as a dependency ensure this functions correctly."
   ]
  },
  {
   "cell_type": "markdown",
   "metadata": {},
   "source": [
    "There must be a dependencies file alongside this notebook, either requirements.txt, a pipenv Pipfile, or a Conda environment.yml file."
   ]
  },
  {
   "cell_type": "code",
   "execution_count": 2,
   "metadata": {},
   "outputs": [],
   "source": [
    "# Setup\n",
    "import os\n",
    "import matplotlib.pyplot as plt \n",
    "import requests\n",
    "import json\n",
    "import pandas as pd\n",
    "import numpy as np\n",
    "import seaborn as sns\n",
    "%matplotlib inline"
   ]
  },
  {
   "cell_type": "markdown",
   "metadata": {},
   "source": [
    "## Output"
   ]
  },
  {
   "cell_type": "markdown",
   "metadata": {},
   "source": [
    "**Output** from your notebooks should be saved in an `output` directory.  \n",
    "If so, they will be saved on the cloud build server, versioned, and made available via URL endpoints.  \n",
    "They can be listed on the Treebeard admin page that you can find after running a build."
   ]
  },
  {
   "cell_type": "code",
   "execution_count": 3,
   "metadata": {},
   "outputs": [],
   "source": [
    "# create an outputs directory if it does not exist\n",
    "if 'output' not in os.listdir(): os.mkdir('output')"
   ]
  },
  {
   "cell_type": "markdown",
   "metadata": {},
   "source": [
    "# Examples\n",
    "\n",
    "Here are a few simple examples of data that might be interesting to check over time.\n",
    "\n",
    "## Call an API"
   ]
  },
  {
   "cell_type": "markdown",
   "metadata": {},
   "source": [
    "What's the current price of BitCoin?"
   ]
  },
  {
   "cell_type": "code",
   "execution_count": 4,
   "metadata": {},
   "outputs": [
    {
     "name": "stdout",
     "output_type": "stream",
     "text": [
      "At Feb 11, 2020 at 11:42 GMT, the price of Bitcoin is £7,579.0896\n"
     ]
    }
   ],
   "source": [
    "r = requests.get('https://api.coindesk.com/v1/bpi/currentprice.json').json()\n",
    "print(f\"At {r['time']['updateduk']}, the price of Bitcoin is £{r['bpi']['GBP']['rate']}\")\n",
    "# This data was produced from the CoinDesk Bitcoin Price Index (USD). Non-USD currency data converted using hourly conversion rate from openexchangerates.org"
   ]
  },
  {
   "cell_type": "markdown",
   "metadata": {},
   "source": [
    "See the last 30 days of the price of Bitcoin, thanks to CoinDesk's API"
   ]
  },
  {
   "cell_type": "code",
   "execution_count": 5,
   "metadata": {},
   "outputs": [
    {
     "data": {
      "image/png": "[encoded data removed]",
      "text/plain": [
       "<Figure size 432x288 with 2 Axes>"
      ]
     },
     "metadata": {
      "needs_background": "light"
     },
     "output_type": "display_data"
    }
   ],
   "source": [
    "r = requests.get('https://api.coindesk.com/v1/bpi/historical/close.json').json()\n",
    "\n",
    "fig, ax = plt.subplots()\n",
    "ax.plot(pd.DataFrame.from_dict(r)['bpi'][:-2], color='red', linestyle='--')\n",
    "ax.set_ylabel('Bitcoin Price (£)')\n",
    "fig.suptitle('Last 30 Days of Bitcoin Price', size=16)\n",
    "plt.gca().spines['top'].set_visible(False)\n",
    "plt.gca().spines['right'].set_visible(False)\n",
    "ax.xaxis.set_major_locator(plt.MaxNLocator(4))\n",
    "\n",
    "im = plt.imread('https://emojipedia-us.s3.dualstack.us-west-1.amazonaws.com/thumbs/320/apple/237/money-with-wings_1f4b8.png')\n",
    "newax = fig.add_axes([0.8, 0.8, 0.2, 0.2], anchor='NE')\n",
    "newax.imshow(im)\n",
    "newax.axis('off')\n",
    "plt.savefig('output/bitcoin_price.png', dpi=150, bbox_inches='tight')"
   ]
  },
  {
   "cell_type": "markdown",
   "metadata": {},
   "source": [
    "## Call a python script\n",
    "\n",
    "Notebooks often interact with custom scripts.  \n",
    "The script `my_script.py` is called into this notebook and a function executed."
   ]
  },
  {
   "cell_type": "code",
   "execution_count": 2,
   "metadata": {},
   "outputs": [
    {
     "name": "stdout",
     "output_type": "stream",
     "text": [
      "Hello World\n"
     ]
    }
   ],
   "source": [
    "# This depends on which directory you are running jupyter from\n",
    "\n",
    "# from examples.hello_treebeard.my_script import greeter # project root\n",
    "from my_script import greeter # or hello_treebeard\n",
    "\n",
    "greeter('World')"
   ]
  },
  {
   "cell_type": "markdown",
   "metadata": {},
   "source": [
    "## Running Treebeard\n",
    "\n",
    "Ok, let's run this in the cloud!  \n",
    "You'll need to run `treebeard configure` in the command line to register your account.  \n",
    "For a new project you'll need to run `treebeard setup` in the project directory to create a `treebeard.yaml` file. However this has already been done. \n",
    "\n",
    "In the command line run `treebeard run` to compress the project folder, create a docker container and request a cloud build.  \n",
    "\n",
    "You will receive a link to the admin page where you can see results after a few minutes.  \n",
    "It is simple to add a schedule flag to this command: `treebeard run --daily`\n",
    "\n",
    "The saved image outputs can be seen in the admin page, see [the documentation](https://treebeard.readthedocs.io/en/latest/outputs.html) for the URL schema to access them."
   ]
  }
 ],
 "metadata": {
  "kernelspec": {
   "display_name": "Python 3",
   "language": "python",
   "name": "python3"
  },
  "language_info": {
   "codemirror_mode": {
    "name": "ipython",
    "version": 3
   },
   "file_extension": ".py",
   "mimetype": "text/x-python",
   "name": "python",
   "nbconvert_exporter": "python",
   "pygments_lexer": "ipython3",
   "version": "3.7.6"
  },
  "toc": {
   "base_numbering": 1,
   "nav_menu": {
    "height": "134px",
    "width": "215px"
   },
   "number_sections": true,
   "sideBar": true,
   "skip_h1_title": false,
   "title_cell": "Table of Contents",
   "title_sidebar": "Contents",
   "toc_cell": false,
   "toc_position": {},
   "toc_section_display": true,
   "toc_window_display": false
  }
 },
 "nbformat": 4,
 "nbformat_minor": 4
}
