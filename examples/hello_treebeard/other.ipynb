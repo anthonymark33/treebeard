{
 "cells": [
  {
   "cell_type": "code",
   "execution_count": 1,
   "metadata": {
    "execution": {
     "iopub.execute_input": "2020-06-05T09:09:48.916613Z",
     "iopub.status.busy": "2020-06-05T09:09:48.915678Z",
     "iopub.status.idle": "2020-06-05T09:09:48.918661Z",
     "shell.execute_reply": "2020-06-05T09:09:48.919231Z"
    },
    "papermill": {
     "duration": 0.013909,
     "end_time": "2020-06-05T09:09:48.919469",
     "exception": false,
     "start_time": "2020-06-05T09:09:48.905560",
     "status": "completed"
    },
    "tags": []
   },
   "outputs": [
    {
     "name": "stdout",
     "output_type": "stream",
     "text": [
      "other\n"
     ]
    }
   ],
   "source": [
    "print('other')"
   ]
  }
 ],
 "metadata": {
  "kernelspec": {
   "display_name": "Python 3",
   "language": "python",
   "name": "python3"
  },
  "language_info": {
   "codemirror_mode": {
    "name": "ipython",
    "version": 3
   },
   "file_extension": ".py",
   "mimetype": "text/x-python",
   "name": "python",
   "nbconvert_exporter": "python",
   "pygments_lexer": "ipython3",
   "version": "3.7.7"
  },
  "papermill": {
   "duration": 1.282111,
   "end_time": "2020-06-05T09:09:49.030248",
   "environment_variables": {},
   "exception": null,
   "input_path": "other.ipynb",
   "output_path": "other.ipynb",
   "parameters": {},
   "start_time": "2020-06-05T09:09:47.748137",
   "version": "2.1.1"
  },
  "toc": {
   "base_numbering": 1,
   "nav_menu": {},
   "number_sections": true,
   "sideBar": true,
   "skip_h1_title": false,
   "title_cell": "Table of Contents",
   "title_sidebar": "Contents",
   "toc_cell": false,
   "toc_position": {},
   "toc_section_display": true,
   "toc_window_display": false
  }
 },
 "nbformat": 4,
 "nbformat_minor": 4
}