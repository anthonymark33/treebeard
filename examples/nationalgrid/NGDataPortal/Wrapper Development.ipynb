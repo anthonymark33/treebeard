{
 "cells": [
  {
   "cell_type": "markdown",
   "metadata": {},
   "source": [
    "# NG Data Portal API Wrapper Development\n",
    "\n",
    "<br>\n",
    "\n",
    "This notebook documents the development of an API wrapper for the National Grid Data Portal. \n",
    "\n",
    "It starts by looking at a single data stream, containing the percentage generation of each fuel, moving from basic requests to more developed and generalisable queries. During this process potential areas for user error are identified and warnings put in place to help guide them in their usage. Finally the groups of functions are combined into a single wrapper class within the NGDataPortal script.\n",
    "\n",
    "The next stage is to identify the different data streams and create a mapping to their resource ids.\n",
    "\n",
    "<br>\n",
    "\n",
    "### Imports"
   ]
  },
  {
   "cell_type": "code",
   "execution_count": 1,
   "metadata": {},
   "outputs": [],
   "source": [
    "import json\n",
    "import pandas as pd\n",
    "import numpy as np\n",
    "\n",
    "import matplotlib.pyplot as plt\n",
    "import seaborn as sns\n",
    "\n",
    "import requests\n",
    "from bs4 import BeautifulSoup\n",
    "\n",
    "import warnings\n",
    "from itertools import islice\n",
    "\n",
    "from IPython.core.display import display, HTML"
   ]
  },
  {
   "cell_type": "markdown",
   "metadata": {},
   "source": [
    "<br>\n",
    "\n",
    "### Helper Functions"
   ]
  },
  {
   "cell_type": "code",
   "execution_count": 2,
   "metadata": {},
   "outputs": [],
   "source": [
    "def take(iterable, n=5):\n",
    "    \"Return first n items of the iterable as a list\"\n",
    "    return list(islice(iterable, n))"
   ]
  },
  {
   "cell_type": "markdown",
   "metadata": {},
   "source": [
    "<br>\n",
    "\n",
    "### Retrieving Package Information\n",
    "\n",
    "We can retrieve information relating to specific data streams through their respective datapackage.jsons"
   ]
  },
  {
   "cell_type": "code",
   "execution_count": 3,
   "metadata": {},
   "outputs": [
    {
     "data": {
      "text/plain": [
       "<Response [200]>"
      ]
     },
     "execution_count": 3,
     "metadata": {},
     "output_type": "execute_result"
    }
   ],
   "source": [
    "form_package_url = lambda group, stream: f'https://national-grid.ckan.io/{group}/{stream}/datapackage.json'\n",
    "\n",
    "group = 'generation'\n",
    "stream = 'generation-mix-national'\n",
    "\n",
    "package_url = form_package_url(group, stream)\n",
    "r_package = requests.get(package_url)\n",
    "\n",
    "r_package"
   ]
  },
  {
   "cell_type": "markdown",
   "metadata": {},
   "source": [
    "<br>\n",
    "\n",
    "These include general information about the data stream"
   ]
  },
  {
   "cell_type": "code",
   "execution_count": 4,
   "metadata": {},
   "outputs": [
    {
     "data": {
      "text/html": [
       "<p>This resource provides a rolling 30 day history of the national generation mix by settlement period and is updated every 30 minutes. Datetime is in ISO8601 format YYYY-MM-DDThh:mmZ e.g. 2017-08-25T12:30Z. All times provided in UTC (+00:00).</p>\n"
      ],
      "text/plain": [
       "<IPython.core.display.HTML object>"
      ]
     },
     "metadata": {},
     "output_type": "display_data"
    }
   ],
   "source": [
    "package_desc = r_package.json()['resources'][0]['descriptionHtml']\n",
    "\n",
    "display(HTML(package_desc))"
   ]
  },
  {
   "cell_type": "markdown",
   "metadata": {},
   "source": [
    "<br>\n",
    "\n",
    "As well as important attributes such as the resource id, with this we can now access the API data feeds"
   ]
  },
  {
   "cell_type": "code",
   "execution_count": 5,
   "metadata": {},
   "outputs": [
    {
     "data": {
      "text/plain": [
       "'0a168493-5d67-4a26-8344-2fe0a5d4d20b'"
      ]
     },
     "execution_count": 5,
     "metadata": {},
     "output_type": "execute_result"
    }
   ],
   "source": [
    "resource_id = r_package.json()['resources'][0]['id']\n",
    "\n",
    "resource_id"
   ]
  },
  {
   "cell_type": "markdown",
   "metadata": {},
   "source": [
    "<br>\n",
    "\n",
    "### Creating the API Wrapper\n",
    "\n",
    "We start the API wrapper development by creating a function which constructs the url for the relevant endpoint and then makes a request to it."
   ]
  },
  {
   "cell_type": "code",
   "execution_count": 6,
   "metadata": {},
   "outputs": [
    {
     "data": {
      "text/html": [
       "<div>\n",
       "<style scoped>\n",
       "    .dataframe tbody tr th:only-of-type {\n",
       "        vertical-align: middle;\n",
       "    }\n",
       "\n",
       "    .dataframe tbody tr th {\n",
       "        vertical-align: top;\n",
       "    }\n",
       "\n",
       "    .dataframe thead th {\n",
       "        text-align: right;\n",
       "    }\n",
       "</style>\n",
       "<table border=\"1\" class=\"dataframe\">\n",
       "  <thead>\n",
       "    <tr style=\"text-align: right;\">\n",
       "      <th></th>\n",
       "      <th>_id</th>\n",
       "      <th>dateTime_from</th>\n",
       "      <th>dateTime_to</th>\n",
       "      <th>biomass_perc</th>\n",
       "      <th>coal_perc</th>\n",
       "      <th>imports_perc</th>\n",
       "      <th>gas_perc</th>\n",
       "      <th>nuclear_perc</th>\n",
       "      <th>other_perc</th>\n",
       "      <th>hydro_perc</th>\n",
       "      <th>solar_perc</th>\n",
       "      <th>wind_perc</th>\n",
       "    </tr>\n",
       "  </thead>\n",
       "  <tbody>\n",
       "    <tr>\n",
       "      <th>0</th>\n",
       "      <td>1</td>\n",
       "      <td>2019-12-31T23:00:00</td>\n",
       "      <td>2019-12-31T23:30:00</td>\n",
       "      <td>8.7</td>\n",
       "      <td>2.5</td>\n",
       "      <td>9.4</td>\n",
       "      <td>30.5</td>\n",
       "      <td>25.7</td>\n",
       "      <td>0.5</td>\n",
       "      <td>2.3</td>\n",
       "      <td>0.0</td>\n",
       "      <td>20.4</td>\n",
       "    </tr>\n",
       "    <tr>\n",
       "      <th>1</th>\n",
       "      <td>2</td>\n",
       "      <td>2019-12-31T22:30:00</td>\n",
       "      <td>2019-12-31T23:00:00</td>\n",
       "      <td>9.0</td>\n",
       "      <td>2.3</td>\n",
       "      <td>8.6</td>\n",
       "      <td>33.5</td>\n",
       "      <td>24.2</td>\n",
       "      <td>0.4</td>\n",
       "      <td>2.3</td>\n",
       "      <td>0.0</td>\n",
       "      <td>19.7</td>\n",
       "    </tr>\n",
       "  </tbody>\n",
       "</table>\n",
       "</div>"
      ],
      "text/plain": [
       "   _id        dateTime_from          dateTime_to  biomass_perc  coal_perc  \\\n",
       "0    1  2019-12-31T23:00:00  2019-12-31T23:30:00           8.7        2.5   \n",
       "1    2  2019-12-31T22:30:00  2019-12-31T23:00:00           9.0        2.3   \n",
       "\n",
       "   imports_perc  gas_perc  nuclear_perc  other_perc  hydro_perc  solar_perc  \\\n",
       "0           9.4      30.5          25.7         0.5         2.3         0.0   \n",
       "1           8.6      33.5          24.2         0.4         2.3         0.0   \n",
       "\n",
       "   wind_perc  \n",
       "0       20.4  \n",
       "1       19.7  "
      ]
     },
     "execution_count": 6,
     "metadata": {},
     "output_type": "execute_result"
    }
   ],
   "source": [
    "def NG_request(resource_id, params={}):    \n",
    "    url_root = 'https://national-grid-admin.ckan.io/api/3/action/datastore_search'\n",
    "    \n",
    "    params.update({'resource_id':resource_id})\n",
    "    \n",
    "    if 'sql' in params.keys():\n",
    "        url_root += '_sql'\n",
    "        \n",
    "    r = requests.get(url_root, params=params)\n",
    "    \n",
    "    return r\n",
    "\n",
    "r = NG_request(resource_id)\n",
    "df = pd.DataFrame(r.json()['result']['records'])\n",
    "\n",
    "df.head(2)"
   ]
  },
  {
   "cell_type": "markdown",
   "metadata": {},
   "source": [
    "<br>\n",
    "\n",
    "Before we take this further we want to add some checks which confirm the call was successful and if not exposes the error message returned by the API. We create a wrapper for the error to enable its assignment as a dictionary value in the next section."
   ]
  },
  {
   "cell_type": "code",
   "execution_count": 7,
   "metadata": {},
   "outputs": [],
   "source": [
    "def raise_(err_txt, error=ValueError): \n",
    "    raise error(err_txt)\n",
    "    \n",
    "def check_request_success(r_json):\n",
    "    if r_json['success'] == False:\n",
    "        err_msg = r_json['error']['message']\n",
    "        raise_(err_msg)\n",
    "        \n",
    "r = NG_request('incorrect_resource_id')\n",
    "r_json = r.json()\n",
    "\n",
    "#check_request_success(r_json)"
   ]
  },
  {
   "cell_type": "markdown",
   "metadata": {},
   "source": [
    "<br>\n",
    "\n",
    "The most common 'advanced' query to the API will include some specification around the date range for the data, within CKAN we can use SQL to construct these specific requests."
   ]
  },
  {
   "cell_type": "code",
   "execution_count": 8,
   "metadata": {},
   "outputs": [
    {
     "name": "stdout",
     "output_type": "stream",
     "text": [
      "SELECT * from \"0a168493-5d67-4a26-8344-2fe0a5d4d20b\" WHERE \"dateTime_from\" BETWEEN '2019-12-30'::timestamp AND '2019-12-31'::timestamp ORDER BY \"dateTime_from\"\n"
     ]
    }
   ],
   "source": [
    "date_between = lambda dt_col, resource_id, start_date, end_date: f'SELECT * from \"{resource_id}\" WHERE \"{dt_col}\" BETWEEN \\'{start_date}\\'::timestamp AND \\'{end_date}\\'::timestamp ORDER BY \"{dt_col}\"' \n",
    "date_less_than = lambda dt_col, resource_id, date: f'SELECT * from \"{resource_id}\" WHERE \"{dt_col}\" < \\'{date}\\'::timestamp ORDER BY \"{dt_col}\"' \n",
    "date_greater_than = lambda dt_col, resource_id, date: f'SELECT * from \"{resource_id}\" WHERE \"{dt_col}\" > \\'{date}\\'::timestamp ORDER BY \"{dt_col}\"' \n",
    "\n",
    "def form_dt_rng_sql_query(dt_col, resource_id, start_date=None, end_date=None):\n",
    "    start_end_date_exist = (start_date!=None, end_date!=None)\n",
    "    \n",
    "    func_map = {\n",
    "        (False, False) : {'error' : 'A start and/or end date should be passed'},\n",
    "        (True, True) : date_between(dt_col, resource_id, start_date, end_date),\n",
    "        (False, True) : date_less_than(dt_col, resource_id, end_date),\n",
    "        (True, False) : date_greater_than(dt_col, resource_id, start_date),\n",
    "    }\n",
    "    \n",
    "    sql = func_map[start_end_date_exist]\n",
    "    \n",
    "    if not isinstance(sql, str):\n",
    "        raise_(sql['error'])\n",
    "    \n",
    "    return sql\n",
    "    \n",
    "dt_col = 'dateTime_from'\n",
    "start_date = '2019-12-30'\n",
    "end_date = '2019-12-31'\n",
    "\n",
    "sql = form_dt_rng_sql_query(dt_col, resource_id, start_date=start_date, end_date=end_date)\n",
    "\n",
    "print(sql)"
   ]
  },
  {
   "cell_type": "markdown",
   "metadata": {},
   "source": [
    "<br>\n",
    "\n",
    "We're now ready to put this all together into a single function"
   ]
  },
  {
   "cell_type": "code",
   "execution_count": 9,
   "metadata": {},
   "outputs": [
    {
     "data": {
      "text/html": [
       "<div>\n",
       "<style scoped>\n",
       "    .dataframe tbody tr th:only-of-type {\n",
       "        vertical-align: middle;\n",
       "    }\n",
       "\n",
       "    .dataframe tbody tr th {\n",
       "        vertical-align: top;\n",
       "    }\n",
       "\n",
       "    .dataframe thead th {\n",
       "        text-align: right;\n",
       "    }\n",
       "</style>\n",
       "<table border=\"1\" class=\"dataframe\">\n",
       "  <thead>\n",
       "    <tr style=\"text-align: right;\">\n",
       "      <th></th>\n",
       "      <th>dateTime_from</th>\n",
       "      <th>nuclear_perc</th>\n",
       "      <th>wind_perc</th>\n",
       "      <th>hydro_perc</th>\n",
       "      <th>_full_text</th>\n",
       "      <th>coal_perc</th>\n",
       "      <th>gas_perc</th>\n",
       "      <th>other_perc</th>\n",
       "      <th>imports_perc</th>\n",
       "      <th>solar_perc</th>\n",
       "      <th>dateTime_to</th>\n",
       "      <th>_id</th>\n",
       "      <th>biomass_perc</th>\n",
       "    </tr>\n",
       "  </thead>\n",
       "  <tbody>\n",
       "    <tr>\n",
       "      <th>0</th>\n",
       "      <td>2019-12-21T13:00:00</td>\n",
       "      <td>17.6</td>\n",
       "      <td>17.7</td>\n",
       "      <td>2</td>\n",
       "      <td>'-12':2,8 '-21':3,9 '0.4':18 '00':5,6,12 '17.6...</td>\n",
       "      <td>3.4</td>\n",
       "      <td>40.7</td>\n",
       "      <td>0.4</td>\n",
       "      <td>8.2</td>\n",
       "      <td>3.4</td>\n",
       "      <td>2019-12-21T13:30:00</td>\n",
       "      <td>501</td>\n",
       "      <td>6.6</td>\n",
       "    </tr>\n",
       "    <tr>\n",
       "      <th>1</th>\n",
       "      <td>2019-12-21T13:30:00</td>\n",
       "      <td>17.7</td>\n",
       "      <td>17</td>\n",
       "      <td>2</td>\n",
       "      <td>'-12':2,8 '-21':3,9 '0.4':18 '00':6,11,12 '17'...</td>\n",
       "      <td>3.4</td>\n",
       "      <td>41.7</td>\n",
       "      <td>0.4</td>\n",
       "      <td>8.4</td>\n",
       "      <td>2.8</td>\n",
       "      <td>2019-12-21T14:00:00</td>\n",
       "      <td>500</td>\n",
       "      <td>6.6</td>\n",
       "    </tr>\n",
       "  </tbody>\n",
       "</table>\n",
       "</div>"
      ],
      "text/plain": [
       "         dateTime_from nuclear_perc wind_perc hydro_perc  \\\n",
       "0  2019-12-21T13:00:00         17.6      17.7          2   \n",
       "1  2019-12-21T13:30:00         17.7        17          2   \n",
       "\n",
       "                                          _full_text coal_perc gas_perc  \\\n",
       "0  '-12':2,8 '-21':3,9 '0.4':18 '00':5,6,12 '17.6...       3.4     40.7   \n",
       "1  '-12':2,8 '-21':3,9 '0.4':18 '00':6,11,12 '17'...       3.4     41.7   \n",
       "\n",
       "  other_perc imports_perc solar_perc          dateTime_to  _id biomass_perc  \n",
       "0        0.4          8.2        3.4  2019-12-21T13:30:00  501          6.6  \n",
       "1        0.4          8.4        2.8  2019-12-21T14:00:00  500          6.6  "
      ]
     },
     "execution_count": 9,
     "metadata": {},
     "output_type": "execute_result"
    }
   ],
   "source": [
    "def query_API(resource_id, params={}, start_date=None, end_date=None, dt_col=None, sql=None, return_raw=False):\n",
    "    ## Handling SQL queries\n",
    "    if start_date or end_date:\n",
    "        if sql:\n",
    "            warnings.warn('The start and end date query will overwrite the provided SQL')\n",
    "        \n",
    "        if not dt_col:\n",
    "            raise_('If a start or end date has been provided the \\'dt_col\\' parameter must be provided')\n",
    "        \n",
    "        sql = form_dt_rng_sql_query(dt_col, resource_id, start_date=start_date, end_date=end_date)\n",
    "        params.update({'sql':sql})\n",
    "    \n",
    "    elif sql:\n",
    "        params.update({'sql':sql})\n",
    "    \n",
    "    ## Making the request\n",
    "    r = NG_request(resource_id, params=params)\n",
    "    \n",
    "    if return_raw == True:\n",
    "        return r\n",
    "\n",
    "    ## Checking and parsing the response\n",
    "    r_json = r.json()\n",
    "    check_request_success(r_json)\n",
    "    \n",
    "    df = pd.DataFrame(r_json['result']['records'])\n",
    "        \n",
    "    return df\n",
    "\n",
    "start_date = '2019-12-20 12:00'\n",
    "end_date = '2019-12-22'\n",
    "dt_col = 'dateTime_from'\n",
    "\n",
    "df = query_API(resource_id, start_date=start_date, end_date=end_date, dt_col=dt_col)\n",
    "\n",
    "df.head(2)"
   ]
  },
  {
   "cell_type": "markdown",
   "metadata": {},
   "source": [
    "<br>\n",
    "\n",
    "Which makes it far easier to query any of the data streams"
   ]
  },
  {
   "cell_type": "code",
   "execution_count": 10,
   "metadata": {},
   "outputs": [
    {
     "data": {
      "text/html": [
       "<div>\n",
       "<style scoped>\n",
       "    .dataframe tbody tr th:only-of-type {\n",
       "        vertical-align: middle;\n",
       "    }\n",
       "\n",
       "    .dataframe tbody tr th {\n",
       "        vertical-align: top;\n",
       "    }\n",
       "\n",
       "    .dataframe thead th {\n",
       "        text-align: right;\n",
       "    }\n",
       "</style>\n",
       "<table border=\"1\" class=\"dataframe\">\n",
       "  <thead>\n",
       "    <tr style=\"text-align: right;\">\n",
       "      <th></th>\n",
       "      <th>dateTime_from</th>\n",
       "      <th>nuclear_perc</th>\n",
       "      <th>wind_perc</th>\n",
       "      <th>hydro_perc</th>\n",
       "      <th>_full_text</th>\n",
       "      <th>coal_perc</th>\n",
       "      <th>gas_perc</th>\n",
       "      <th>other_perc</th>\n",
       "      <th>imports_perc</th>\n",
       "      <th>solar_perc</th>\n",
       "      <th>dateTime_to</th>\n",
       "      <th>_id</th>\n",
       "      <th>biomass_perc</th>\n",
       "    </tr>\n",
       "  </thead>\n",
       "  <tbody>\n",
       "    <tr>\n",
       "      <th>0</th>\n",
       "      <td>2019-12-21T13:00:00</td>\n",
       "      <td>17.6</td>\n",
       "      <td>17.7</td>\n",
       "      <td>2</td>\n",
       "      <td>'-12':2,8 '-21':3,9 '0.4':18 '00':5,6,12 '17.6...</td>\n",
       "      <td>3.4</td>\n",
       "      <td>40.7</td>\n",
       "      <td>0.4</td>\n",
       "      <td>8.2</td>\n",
       "      <td>3.4</td>\n",
       "      <td>2019-12-21T13:30:00</td>\n",
       "      <td>501</td>\n",
       "      <td>6.6</td>\n",
       "    </tr>\n",
       "    <tr>\n",
       "      <th>1</th>\n",
       "      <td>2019-12-21T13:30:00</td>\n",
       "      <td>17.7</td>\n",
       "      <td>17</td>\n",
       "      <td>2</td>\n",
       "      <td>'-12':2,8 '-21':3,9 '0.4':18 '00':6,11,12 '17'...</td>\n",
       "      <td>3.4</td>\n",
       "      <td>41.7</td>\n",
       "      <td>0.4</td>\n",
       "      <td>8.4</td>\n",
       "      <td>2.8</td>\n",
       "      <td>2019-12-21T14:00:00</td>\n",
       "      <td>500</td>\n",
       "      <td>6.6</td>\n",
       "    </tr>\n",
       "    <tr>\n",
       "      <th>2</th>\n",
       "      <td>2019-12-21T14:00:00</td>\n",
       "      <td>17.8</td>\n",
       "      <td>15.9</td>\n",
       "      <td>2</td>\n",
       "      <td>'-12':2,8 '-21':3,9 '0.4':18 '00':5,6,12 '15.9...</td>\n",
       "      <td>3.5</td>\n",
       "      <td>43.2</td>\n",
       "      <td>0.4</td>\n",
       "      <td>8.4</td>\n",
       "      <td>2.2</td>\n",
       "      <td>2019-12-21T14:30:00</td>\n",
       "      <td>499</td>\n",
       "      <td>6.6</td>\n",
       "    </tr>\n",
       "    <tr>\n",
       "      <th>3</th>\n",
       "      <td>2019-12-21T14:30:00</td>\n",
       "      <td>17.7</td>\n",
       "      <td>15.9</td>\n",
       "      <td>2</td>\n",
       "      <td>'-12':2,8 '-21':3,9 '0.4':18 '00':6,11,12 '1.6...</td>\n",
       "      <td>3.4</td>\n",
       "      <td>44.1</td>\n",
       "      <td>0.4</td>\n",
       "      <td>8.3</td>\n",
       "      <td>1.6</td>\n",
       "      <td>2019-12-21T15:00:00</td>\n",
       "      <td>498</td>\n",
       "      <td>6.6</td>\n",
       "    </tr>\n",
       "    <tr>\n",
       "      <th>4</th>\n",
       "      <td>2019-12-21T15:00:00</td>\n",
       "      <td>17.5</td>\n",
       "      <td>16.6</td>\n",
       "      <td>2.7</td>\n",
       "      <td>'-12':2,8 '-21':3,9 '0.4':18 '00':5,6,12 '1':2...</td>\n",
       "      <td>3.4</td>\n",
       "      <td>43.7</td>\n",
       "      <td>0.4</td>\n",
       "      <td>8.2</td>\n",
       "      <td>1</td>\n",
       "      <td>2019-12-21T15:30:00</td>\n",
       "      <td>497</td>\n",
       "      <td>6.5</td>\n",
       "    </tr>\n",
       "  </tbody>\n",
       "</table>\n",
       "</div>"
      ],
      "text/plain": [
       "         dateTime_from nuclear_perc wind_perc hydro_perc  \\\n",
       "0  2019-12-21T13:00:00         17.6      17.7          2   \n",
       "1  2019-12-21T13:30:00         17.7        17          2   \n",
       "2  2019-12-21T14:00:00         17.8      15.9          2   \n",
       "3  2019-12-21T14:30:00         17.7      15.9          2   \n",
       "4  2019-12-21T15:00:00         17.5      16.6        2.7   \n",
       "\n",
       "                                          _full_text coal_perc gas_perc  \\\n",
       "0  '-12':2,8 '-21':3,9 '0.4':18 '00':5,6,12 '17.6...       3.4     40.7   \n",
       "1  '-12':2,8 '-21':3,9 '0.4':18 '00':6,11,12 '17'...       3.4     41.7   \n",
       "2  '-12':2,8 '-21':3,9 '0.4':18 '00':5,6,12 '15.9...       3.5     43.2   \n",
       "3  '-12':2,8 '-21':3,9 '0.4':18 '00':6,11,12 '1.6...       3.4     44.1   \n",
       "4  '-12':2,8 '-21':3,9 '0.4':18 '00':5,6,12 '1':2...       3.4     43.7   \n",
       "\n",
       "  other_perc imports_perc solar_perc          dateTime_to  _id biomass_perc  \n",
       "0        0.4          8.2        3.4  2019-12-21T13:30:00  501          6.6  \n",
       "1        0.4          8.4        2.8  2019-12-21T14:00:00  500          6.6  \n",
       "2        0.4          8.4        2.2  2019-12-21T14:30:00  499          6.6  \n",
       "3        0.4          8.3        1.6  2019-12-21T15:00:00  498          6.6  \n",
       "4        0.4          8.2          1  2019-12-21T15:30:00  497          6.5  "
      ]
     },
     "execution_count": 10,
     "metadata": {},
     "output_type": "execute_result"
    }
   ],
   "source": [
    "RES_fcst_resource_id = 'db6c038f-98af-4570-ab60-24d71ebd0ae5'\n",
    "\n",
    "df = query_API(RES_fcst_resource_id)\n",
    "\n",
    "df.head()"
   ]
  },
  {
   "cell_type": "markdown",
   "metadata": {},
   "source": [
    "<br>\n",
    "\n",
    "This can then be used to create a module which contains all of the neccessary equations"
   ]
  },
  {
   "cell_type": "code",
   "execution_count": null,
   "metadata": {},
   "outputs": [],
   "source": []
  },
  {
   "cell_type": "code",
   "execution_count": 3,
   "metadata": {},
   "outputs": [
    {
     "data": {
      "text/html": [
       "<div>\n",
       "<style scoped>\n",
       "    .dataframe tbody tr th:only-of-type {\n",
       "        vertical-align: middle;\n",
       "    }\n",
       "\n",
       "    .dataframe tbody tr th {\n",
       "        vertical-align: top;\n",
       "    }\n",
       "\n",
       "    .dataframe thead th {\n",
       "        text-align: right;\n",
       "    }\n",
       "</style>\n",
       "<table border=\"1\" class=\"dataframe\">\n",
       "  <thead>\n",
       "    <tr style=\"text-align: right;\">\n",
       "      <th></th>\n",
       "      <th>_id</th>\n",
       "      <th>DATE_GMT</th>\n",
       "      <th>TIME_GMT</th>\n",
       "      <th>SETTLEMENT_DATE</th>\n",
       "      <th>SETTLEMENT_PERIOD</th>\n",
       "      <th>EMBEDDED_WIND_FORECAST</th>\n",
       "      <th>EMBEDDED_WIND_CAPACITY</th>\n",
       "      <th>EMBEDDED_SOLAR_FORECAST</th>\n",
       "      <th>EMBEDDED_SOLAR_CAPACITY</th>\n",
       "    </tr>\n",
       "  </thead>\n",
       "  <tbody>\n",
       "    <tr>\n",
       "      <th>0</th>\n",
       "      <td>1</td>\n",
       "      <td>20200121</td>\n",
       "      <td>1230</td>\n",
       "      <td>2020-01-21T00:00:00</td>\n",
       "      <td>25</td>\n",
       "      <td>780</td>\n",
       "      <td>6465</td>\n",
       "      <td>3523</td>\n",
       "      <td>13080</td>\n",
       "    </tr>\n",
       "    <tr>\n",
       "      <th>1</th>\n",
       "      <td>2</td>\n",
       "      <td>20200121</td>\n",
       "      <td>1300</td>\n",
       "      <td>2020-01-21T00:00:00</td>\n",
       "      <td>26</td>\n",
       "      <td>803</td>\n",
       "      <td>6465</td>\n",
       "      <td>3376</td>\n",
       "      <td>13080</td>\n",
       "    </tr>\n",
       "    <tr>\n",
       "      <th>2</th>\n",
       "      <td>3</td>\n",
       "      <td>20200121</td>\n",
       "      <td>1330</td>\n",
       "      <td>2020-01-21T00:00:00</td>\n",
       "      <td>27</td>\n",
       "      <td>815</td>\n",
       "      <td>6465</td>\n",
       "      <td>3117</td>\n",
       "      <td>13080</td>\n",
       "    </tr>\n",
       "    <tr>\n",
       "      <th>3</th>\n",
       "      <td>4</td>\n",
       "      <td>20200121</td>\n",
       "      <td>1400</td>\n",
       "      <td>2020-01-21T00:00:00</td>\n",
       "      <td>28</td>\n",
       "      <td>827</td>\n",
       "      <td>6465</td>\n",
       "      <td>2712</td>\n",
       "      <td>13080</td>\n",
       "    </tr>\n",
       "    <tr>\n",
       "      <th>4</th>\n",
       "      <td>5</td>\n",
       "      <td>20200121</td>\n",
       "      <td>1430</td>\n",
       "      <td>2020-01-21T00:00:00</td>\n",
       "      <td>29</td>\n",
       "      <td>820</td>\n",
       "      <td>6465</td>\n",
       "      <td>2141</td>\n",
       "      <td>13080</td>\n",
       "    </tr>\n",
       "  </tbody>\n",
       "</table>\n",
       "</div>"
      ],
      "text/plain": [
       "   _id  DATE_GMT  TIME_GMT      SETTLEMENT_DATE  SETTLEMENT_PERIOD  \\\n",
       "0    1  20200121      1230  2020-01-21T00:00:00                 25   \n",
       "1    2  20200121      1300  2020-01-21T00:00:00                 26   \n",
       "2    3  20200121      1330  2020-01-21T00:00:00                 27   \n",
       "3    4  20200121      1400  2020-01-21T00:00:00                 28   \n",
       "4    5  20200121      1430  2020-01-21T00:00:00                 29   \n",
       "\n",
       "   EMBEDDED_WIND_FORECAST  EMBEDDED_WIND_CAPACITY  EMBEDDED_SOLAR_FORECAST  \\\n",
       "0                     780                    6465                     3523   \n",
       "1                     803                    6465                     3376   \n",
       "2                     815                    6465                     3117   \n",
       "3                     827                    6465                     2712   \n",
       "4                     820                    6465                     2141   \n",
       "\n",
       "   EMBEDDED_SOLAR_CAPACITY  \n",
       "0                    13080  \n",
       "1                    13080  \n",
       "2                    13080  \n",
       "3                    13080  \n",
       "4                    13080  "
      ]
     },
     "execution_count": 3,
     "metadata": {},
     "output_type": "execute_result"
    }
   ],
   "source": [
    "from NGDataPortal import Wrapper\n",
    "\n",
    "RES_stream = 'embedded-wind-and-solar-forecasts'\n",
    "wrapper = Wrapper(stream=RES_stream)\n",
    "\n",
    "df = wrapper.query_API()\n",
    "\n",
    "df.head()"
   ]
  },
  {
   "cell_type": "markdown",
   "metadata": {},
   "source": [
    "<br>\n",
    "\n",
    "### Collecting Metadata for Available Streams"
   ]
  },
  {
   "cell_type": "code",
   "execution_count": 12,
   "metadata": {},
   "outputs": [
    {
     "data": {
      "text/plain": [
       "<Response [200]>"
      ]
     },
     "execution_count": 12,
     "metadata": {},
     "output_type": "execute_result"
    }
   ],
   "source": [
    "url_search_NGDataPortal = lambda q, from_: f'https://data.nationalgrideso.com/search?q={q}&from={from_}&sort=score:desc'\n",
    "\n",
    "search_url = url_search_NGDataPortal('', 0)\n",
    "r = requests.get(search_url)\n",
    "\n",
    "r"
   ]
  },
  {
   "cell_type": "code",
   "execution_count": null,
   "metadata": {},
   "outputs": [],
   "source": []
  },
  {
   "cell_type": "code",
   "execution_count": 13,
   "metadata": {},
   "outputs": [
    {
     "data": {
      "text/plain": [
       "['/ancillary-services/contracted-energy-volumes-and-data',\n",
       " '/ancillary-services/firm-frequency-response-auction-results',\n",
       " '/ancillary-services/fast-reserve-tender-reports',\n",
       " '/balancing/balancing-services-charging-report-bcr',\n",
       " '/balancing/current-balancing-services-use-of-system-bsuos-data',\n",
       " '/generation/weekly-wind-availability',\n",
       " '/balancing/mbss',\n",
       " '/ancillary-services/firm-frequency-response-market-information',\n",
       " '/balancing/balancing-services-use-of-system-bsuos-daily-cost',\n",
       " '/constraint-management/outturn-voltage-costs']"
      ]
     },
     "execution_count": 13,
     "metadata": {},
     "output_type": "execute_result"
    }
   ],
   "source": [
    "def response_2_resource_links(r):\n",
    "    soup = BeautifulSoup(r.content)\n",
    "\n",
    "    resource_links = soup.findAll('a', {'class':'text-orange hover:text-gray-800'})\n",
    "    resource_links = [resource_link['href'] for resource_link in resource_links]\n",
    "\n",
    "    return resource_links\n",
    "\n",
    "resource_links = response_2_resource_links(r)\n",
    "\n",
    "resource_links"
   ]
  },
  {
   "cell_type": "code",
   "execution_count": null,
   "metadata": {},
   "outputs": [],
   "source": []
  },
  {
   "cell_type": "code",
   "execution_count": 14,
   "metadata": {},
   "outputs": [
    {
     "name": "stdout",
     "output_type": "stream",
     "text": [
      "There are a total of 36 data streams available through the National Grid portal\n"
     ]
    },
    {
     "data": {
      "text/html": [
       "<div>\n",
       "<style scoped>\n",
       "    .dataframe tbody tr th:only-of-type {\n",
       "        vertical-align: middle;\n",
       "    }\n",
       "\n",
       "    .dataframe tbody tr th {\n",
       "        vertical-align: top;\n",
       "    }\n",
       "\n",
       "    .dataframe thead th {\n",
       "        text-align: right;\n",
       "    }\n",
       "</style>\n",
       "<table border=\"1\" class=\"dataframe\">\n",
       "  <thead>\n",
       "    <tr style=\"text-align: right;\">\n",
       "      <th></th>\n",
       "      <th>group</th>\n",
       "      <th>stream</th>\n",
       "    </tr>\n",
       "  </thead>\n",
       "  <tbody>\n",
       "    <tr>\n",
       "      <th>0</th>\n",
       "      <td>ancillary-services</td>\n",
       "      <td>contracted-energy-volumes-and-data</td>\n",
       "    </tr>\n",
       "    <tr>\n",
       "      <th>1</th>\n",
       "      <td>ancillary-services</td>\n",
       "      <td>firm-frequency-response-auction-results</td>\n",
       "    </tr>\n",
       "    <tr>\n",
       "      <th>2</th>\n",
       "      <td>ancillary-services</td>\n",
       "      <td>fast-reserve-tender-reports</td>\n",
       "    </tr>\n",
       "    <tr>\n",
       "      <th>3</th>\n",
       "      <td>balancing</td>\n",
       "      <td>balancing-services-charging-report-bcr</td>\n",
       "    </tr>\n",
       "    <tr>\n",
       "      <th>4</th>\n",
       "      <td>balancing</td>\n",
       "      <td>current-balancing-services-use-of-system-bsuos...</td>\n",
       "    </tr>\n",
       "  </tbody>\n",
       "</table>\n",
       "</div>"
      ],
      "text/plain": [
       "                group                                             stream\n",
       "0  ancillary-services                 contracted-energy-volumes-and-data\n",
       "1  ancillary-services            firm-frequency-response-auction-results\n",
       "2  ancillary-services                        fast-reserve-tender-reports\n",
       "3           balancing             balancing-services-charging-report-bcr\n",
       "4           balancing  current-balancing-services-use-of-system-bsuos..."
      ]
     },
     "execution_count": 14,
     "metadata": {},
     "output_type": "execute_result"
    }
   ],
   "source": [
    "resource_links = []\n",
    "num_page_resource_links = 1\n",
    "\n",
    "while num_page_resource_links > 0:\n",
    "    search_url = url_search_NGDataPortal('', len(resource_links))\n",
    "    r = requests.get(search_url)\n",
    "    \n",
    "    page_resource_links = response_2_resource_links(r)\n",
    "    num_page_resource_links = len(page_resource_links)\n",
    "    \n",
    "    resource_links += page_resource_links\n",
    "    \n",
    "print(f'There are a total of {len(resource_links)} data streams available through the National Grid portal')\n",
    "\n",
    "df_resources = (pd.Series(resource_links)\n",
    "                .str[1:]\n",
    "                .str.split('/')\n",
    "                .apply(pd.Series)\n",
    "                .rename(columns={0:'group', 1:'stream'})\n",
    "               )\n",
    "\n",
    "df_resources.head()"
   ]
  },
  {
   "cell_type": "code",
   "execution_count": null,
   "metadata": {},
   "outputs": [],
   "source": []
  },
  {
   "cell_type": "code",
   "execution_count": 15,
   "metadata": {},
   "outputs": [
    {
     "data": {
      "text/plain": [
       "{'package_desc': 'This resource provides a rolling 30 day history of the national generation mix by settlement period and is updated every 30 minutes. Datetime is in ISO8601 format YYYY-MM-DDThh:mmZ e.g. 2017-08-25T12:30Z. All times provided in UTC (+00:00).',\n",
       " 'resource_id': '0a168493-5d67-4a26-8344-2fe0a5d4d20b'}"
      ]
     },
     "execution_count": 15,
     "metadata": {},
     "output_type": "execute_result"
    }
   ],
   "source": [
    "def package_url_2_metadata(package_url):\n",
    "    r_package = requests.get(package_url)\n",
    "    r_json = r_package.json()\n",
    "\n",
    "    package_metadata = dict()\n",
    "\n",
    "    package_metadata['package_desc'] = r_json['resources'][0]['description']\n",
    "    package_metadata['resource_id'] = r_json['resources'][0]['id']\n",
    "\n",
    "    return package_metadata\n",
    "\n",
    "group = 'generation'\n",
    "stream = 'generation-mix-national'\n",
    "\n",
    "package_url = form_package_url(group, stream)\n",
    "package_metadata = package_url_2_metadata(package_url)\n",
    "\n",
    "package_metadata"
   ]
  },
  {
   "cell_type": "code",
   "execution_count": null,
   "metadata": {},
   "outputs": [],
   "source": []
  },
  {
   "cell_type": "code",
   "execution_count": 16,
   "metadata": {},
   "outputs": [
    {
     "name": "stdout",
     "output_type": "stream",
     "text": [
      "Wall time: 0 ns\n"
     ]
    }
   ],
   "source": [
    "%%time\n",
    "\n",
    "identify_resource_ids = False\n",
    "\n",
    "if identify_resource_ids == True:\n",
    "    for idx, (group, stream) in df_resources.iterrows():\n",
    "        package_url = form_package_url(group, stream)\n",
    "        package_metadata = package_url_2_metadata(package_url)\n",
    "\n",
    "        df_resources.loc[idx, 'resource_id'] = package_metadata['resource_id']\n",
    "\n",
    "    stream_2_id_map = df_resources.set_index('stream')['resource_id'].to_dict()\n",
    "\n",
    "    print(dict(take(stream_2_id_map.items())))"
   ]
  },
  {
   "cell_type": "code",
   "execution_count": null,
   "metadata": {},
   "outputs": [],
   "source": []
  },
  {
   "cell_type": "code",
   "execution_count": 17,
   "metadata": {},
   "outputs": [],
   "source": [
    "if identify_resource_ids == True:\n",
    "    with open('stream_to_resource_id.json', 'w') as fp:\n",
    "        json.dump(stream_2_id_map, fp)"
   ]
  },
  {
   "cell_type": "code",
   "execution_count": null,
   "metadata": {},
   "outputs": [],
   "source": []
  },
  {
   "cell_type": "code",
   "execution_count": 23,
   "metadata": {},
   "outputs": [
    {
     "data": {
      "text/html": [
       "<div>\n",
       "<style scoped>\n",
       "    .dataframe tbody tr th:only-of-type {\n",
       "        vertical-align: middle;\n",
       "    }\n",
       "\n",
       "    .dataframe tbody tr th {\n",
       "        vertical-align: top;\n",
       "    }\n",
       "\n",
       "    .dataframe thead th {\n",
       "        text-align: right;\n",
       "    }\n",
       "</style>\n",
       "<table border=\"1\" class=\"dataframe\">\n",
       "  <thead>\n",
       "    <tr style=\"text-align: right;\">\n",
       "      <th></th>\n",
       "      <th>Settlement Period</th>\n",
       "      <th>Half-hourly Charge</th>\n",
       "      <th>Run Type</th>\n",
       "      <th>Total Daily BSUoS Charge</th>\n",
       "      <th>_full_text</th>\n",
       "      <th>BSUoS Price (£/MWh Hour)</th>\n",
       "      <th>Settlement Day</th>\n",
       "      <th>_id</th>\n",
       "    </tr>\n",
       "  </thead>\n",
       "  <tbody>\n",
       "    <tr>\n",
       "      <th>0</th>\n",
       "      <td>1</td>\n",
       "      <td>119,542.669</td>\n",
       "      <td>II</td>\n",
       "      <td>5,585,971.58</td>\n",
       "      <td>'-12':2 '-20':3 '00':5,6 '1':7 '119':9 '2019':...</td>\n",
       "      <td>4.89096</td>\n",
       "      <td>2019-12-20T00:00:00</td>\n",
       "      <td>47667</td>\n",
       "    </tr>\n",
       "    <tr>\n",
       "      <th>1</th>\n",
       "      <td>2</td>\n",
       "      <td>135,592.386</td>\n",
       "      <td>II</td>\n",
       "      <td>5,585,971.58</td>\n",
       "      <td>'-12':2 '-20':3 '00':5,6 '135':9 '2':7 '2019':...</td>\n",
       "      <td>5.40753</td>\n",
       "      <td>2019-12-20T00:00:00</td>\n",
       "      <td>47668</td>\n",
       "    </tr>\n",
       "  </tbody>\n",
       "</table>\n",
       "</div>"
      ],
      "text/plain": [
       "  Settlement Period Half-hourly Charge Run Type Total Daily BSUoS Charge  \\\n",
       "0                 1        119,542.669       II             5,585,971.58   \n",
       "1                 2        135,592.386       II             5,585,971.58   \n",
       "\n",
       "                                          _full_text BSUoS Price (£/MWh Hour)  \\\n",
       "0  '-12':2 '-20':3 '00':5,6 '1':7 '119':9 '2019':...                  4.89096   \n",
       "1  '-12':2 '-20':3 '00':5,6 '135':9 '2':7 '2019':...                  5.40753   \n",
       "\n",
       "        Settlement Day    _id  \n",
       "0  2019-12-20T00:00:00  47667  \n",
       "1  2019-12-20T00:00:00  47668  "
      ]
     },
     "execution_count": 23,
     "metadata": {},
     "output_type": "execute_result"
    }
   ],
   "source": [
    "stream = 'current-balancing-services-use-of-system-bsuos-data'\n",
    "wrapper = Wrapper(stream=stream)\n",
    "\n",
    "start_date = '2019-12-20'\n",
    "end_date = '2019-12-22'\n",
    "dt_col = 'Settlement Day'\n",
    "\n",
    "df = wrapper.query_API(start_date=start_date, end_date=end_date, dt_col=dt_col)\n",
    "\n",
    "df.head(2)"
   ]
  },
  {
   "cell_type": "code",
   "execution_count": null,
   "metadata": {},
   "outputs": [],
   "source": []
  },
  {
   "cell_type": "code",
   "execution_count": 4,
   "metadata": {},
   "outputs": [
    {
     "data": {
      "text/html": [
       "<div>\n",
       "<style scoped>\n",
       "    .dataframe tbody tr th:only-of-type {\n",
       "        vertical-align: middle;\n",
       "    }\n",
       "\n",
       "    .dataframe tbody tr th {\n",
       "        vertical-align: top;\n",
       "    }\n",
       "\n",
       "    .dataframe thead th {\n",
       "        text-align: right;\n",
       "    }\n",
       "</style>\n",
       "<table border=\"1\" class=\"dataframe\">\n",
       "  <thead>\n",
       "    <tr style=\"text-align: right;\">\n",
       "      <th></th>\n",
       "      <th>_id</th>\n",
       "      <th>BMU_ID</th>\n",
       "      <th>Week Number</th>\n",
       "      <th>MW</th>\n",
       "    </tr>\n",
       "  </thead>\n",
       "  <tbody>\n",
       "    <tr>\n",
       "      <th>0</th>\n",
       "      <td>1</td>\n",
       "      <td>ABRBO-1</td>\n",
       "      <td>05W20</td>\n",
       "      <td>0</td>\n",
       "    </tr>\n",
       "    <tr>\n",
       "      <th>1</th>\n",
       "      <td>2</td>\n",
       "      <td>ABRBO-1</td>\n",
       "      <td>06W20</td>\n",
       "      <td>0</td>\n",
       "    </tr>\n",
       "    <tr>\n",
       "      <th>2</th>\n",
       "      <td>3</td>\n",
       "      <td>ABRBO-1</td>\n",
       "      <td>07W20</td>\n",
       "      <td>0</td>\n",
       "    </tr>\n",
       "    <tr>\n",
       "      <th>3</th>\n",
       "      <td>4</td>\n",
       "      <td>ABRBO-1</td>\n",
       "      <td>08W20</td>\n",
       "      <td>0</td>\n",
       "    </tr>\n",
       "    <tr>\n",
       "      <th>4</th>\n",
       "      <td>5</td>\n",
       "      <td>ABRBO-1</td>\n",
       "      <td>09W20</td>\n",
       "      <td>0</td>\n",
       "    </tr>\n",
       "  </tbody>\n",
       "</table>\n",
       "</div>"
      ],
      "text/plain": [
       "   _id   BMU_ID Week Number  MW\n",
       "0    1  ABRBO-1       05W20   0\n",
       "1    2  ABRBO-1       06W20   0\n",
       "2    3  ABRBO-1       07W20   0\n",
       "3    4  ABRBO-1       08W20   0\n",
       "4    5  ABRBO-1       09W20   0"
      ]
     },
     "execution_count": 4,
     "metadata": {},
     "output_type": "execute_result"
    }
   ],
   "source": [
    "stream = 'weekly-wind-availability'\n",
    "wrapper = Wrapper(stream)\n",
    "\n",
    "df = wrapper.query_API()\n",
    "\n",
    "df.head()"
   ]
  },
  {
   "cell_type": "code",
   "execution_count": null,
   "metadata": {},
   "outputs": [],
   "source": []
  },
  {
   "cell_type": "code",
   "execution_count": 5,
   "metadata": {},
   "outputs": [
    {
     "data": {
      "text/html": [
       "<div>\n",
       "<style scoped>\n",
       "    .dataframe tbody tr th:only-of-type {\n",
       "        vertical-align: middle;\n",
       "    }\n",
       "\n",
       "    .dataframe tbody tr th {\n",
       "        vertical-align: top;\n",
       "    }\n",
       "\n",
       "    .dataframe thead th {\n",
       "        text-align: right;\n",
       "    }\n",
       "</style>\n",
       "<table border=\"1\" class=\"dataframe\">\n",
       "  <thead>\n",
       "    <tr style=\"text-align: right;\">\n",
       "      <th></th>\n",
       "      <th>_id</th>\n",
       "      <th>DATE_GMT</th>\n",
       "      <th>TIME_GMT</th>\n",
       "      <th>SETTLEMENT_DATE</th>\n",
       "      <th>SETTLEMENT_PERIOD</th>\n",
       "      <th>EMBEDDED_WIND_FORECAST</th>\n",
       "      <th>EMBEDDED_WIND_CAPACITY</th>\n",
       "      <th>EMBEDDED_SOLAR_FORECAST</th>\n",
       "      <th>EMBEDDED_SOLAR_CAPACITY</th>\n",
       "    </tr>\n",
       "  </thead>\n",
       "  <tbody>\n",
       "    <tr>\n",
       "      <th>0</th>\n",
       "      <td>1</td>\n",
       "      <td>20200121</td>\n",
       "      <td>1230</td>\n",
       "      <td>2020-01-21T00:00:00</td>\n",
       "      <td>25</td>\n",
       "      <td>780</td>\n",
       "      <td>6465</td>\n",
       "      <td>3523</td>\n",
       "      <td>13080</td>\n",
       "    </tr>\n",
       "    <tr>\n",
       "      <th>1</th>\n",
       "      <td>2</td>\n",
       "      <td>20200121</td>\n",
       "      <td>1300</td>\n",
       "      <td>2020-01-21T00:00:00</td>\n",
       "      <td>26</td>\n",
       "      <td>803</td>\n",
       "      <td>6465</td>\n",
       "      <td>3376</td>\n",
       "      <td>13080</td>\n",
       "    </tr>\n",
       "    <tr>\n",
       "      <th>2</th>\n",
       "      <td>3</td>\n",
       "      <td>20200121</td>\n",
       "      <td>1330</td>\n",
       "      <td>2020-01-21T00:00:00</td>\n",
       "      <td>27</td>\n",
       "      <td>815</td>\n",
       "      <td>6465</td>\n",
       "      <td>3117</td>\n",
       "      <td>13080</td>\n",
       "    </tr>\n",
       "    <tr>\n",
       "      <th>3</th>\n",
       "      <td>4</td>\n",
       "      <td>20200121</td>\n",
       "      <td>1400</td>\n",
       "      <td>2020-01-21T00:00:00</td>\n",
       "      <td>28</td>\n",
       "      <td>827</td>\n",
       "      <td>6465</td>\n",
       "      <td>2712</td>\n",
       "      <td>13080</td>\n",
       "    </tr>\n",
       "    <tr>\n",
       "      <th>4</th>\n",
       "      <td>5</td>\n",
       "      <td>20200121</td>\n",
       "      <td>1430</td>\n",
       "      <td>2020-01-21T00:00:00</td>\n",
       "      <td>29</td>\n",
       "      <td>820</td>\n",
       "      <td>6465</td>\n",
       "      <td>2141</td>\n",
       "      <td>13080</td>\n",
       "    </tr>\n",
       "  </tbody>\n",
       "</table>\n",
       "</div>"
      ],
      "text/plain": [
       "   _id  DATE_GMT  TIME_GMT      SETTLEMENT_DATE  SETTLEMENT_PERIOD  \\\n",
       "0    1  20200121      1230  2020-01-21T00:00:00                 25   \n",
       "1    2  20200121      1300  2020-01-21T00:00:00                 26   \n",
       "2    3  20200121      1330  2020-01-21T00:00:00                 27   \n",
       "3    4  20200121      1400  2020-01-21T00:00:00                 28   \n",
       "4    5  20200121      1430  2020-01-21T00:00:00                 29   \n",
       "\n",
       "   EMBEDDED_WIND_FORECAST  EMBEDDED_WIND_CAPACITY  EMBEDDED_SOLAR_FORECAST  \\\n",
       "0                     780                    6465                     3523   \n",
       "1                     803                    6465                     3376   \n",
       "2                     815                    6465                     3117   \n",
       "3                     827                    6465                     2712   \n",
       "4                     820                    6465                     2141   \n",
       "\n",
       "   EMBEDDED_SOLAR_CAPACITY  \n",
       "0                    13080  \n",
       "1                    13080  \n",
       "2                    13080  \n",
       "3                    13080  \n",
       "4                    13080  "
      ]
     },
     "execution_count": 5,
     "metadata": {},
     "output_type": "execute_result"
    }
   ],
   "source": [
    "stream = 'embedded-wind-and-solar-forecasts'\n",
    "wrapper = Wrapper(stream)\n",
    "\n",
    "df = wrapper.query_API()\n",
    "\n",
    "df.head()"
   ]
  }
 ],
 "metadata": {
  "kernelspec": {
   "display_name": "Python 3",
   "language": "python",
   "name": "python3"
  },
  "language_info": {
   "codemirror_mode": {
    "name": "ipython",
    "version": 3
   },
   "file_extension": ".py",
   "mimetype": "text/x-python",
   "name": "python",
   "nbconvert_exporter": "python",
   "pygments_lexer": "ipython3",
   "version": "3.6.8"
  }
 },
 "nbformat": 4,
 "nbformat_minor": 4
}
